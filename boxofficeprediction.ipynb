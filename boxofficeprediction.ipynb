{
 "cells": [
  {
   "cell_type": "code",
   "execution_count": 1,
   "metadata": {},
   "outputs": [],
   "source": [
    "from sklearn.metrics import mean_squared_log_error\n",
    "from sklearn.metrics import mean_squared_error\n",
    "import matplotlib.pyplot as plt\n",
    "from datetime import datetime\n",
    "from sklearn import ensemble\n",
    "import xgboost as xgb\n",
    "from math import sqrt\n",
    "import pandas as pd\n",
    "import numpy as np\n",
    "import warnings\n",
    "import string\n",
    "import copy\n",
    "import ast\n",
    "import math\n",
    "\n",
    "\n",
    "warnings.filterwarnings('ignore')\n",
    "%matplotlib inline"
   ]
  },
  {
   "cell_type": "code",
   "execution_count": 2,
   "metadata": {},
   "outputs": [],
   "source": [
    "train = pd.read_csv('train.tsv', sep = '\\t')"
   ]
  },
  {
   "cell_type": "code",
   "execution_count": 3,
   "metadata": {},
   "outputs": [
    {
     "data": {
      "text/html": [
       "<div>\n",
       "<style scoped>\n",
       "    .dataframe tbody tr th:only-of-type {\n",
       "        vertical-align: middle;\n",
       "    }\n",
       "\n",
       "    .dataframe tbody tr th {\n",
       "        vertical-align: top;\n",
       "    }\n",
       "\n",
       "    .dataframe thead th {\n",
       "        text-align: right;\n",
       "    }\n",
       "</style>\n",
       "<table border=\"1\" class=\"dataframe\">\n",
       "  <thead>\n",
       "    <tr style=\"text-align: right;\">\n",
       "      <th></th>\n",
       "      <th>backdrop_path</th>\n",
       "      <th>belongs_to_collection</th>\n",
       "      <th>budget</th>\n",
       "      <th>genres</th>\n",
       "      <th>homepage</th>\n",
       "      <th>id</th>\n",
       "      <th>imdb_id</th>\n",
       "      <th>original_language</th>\n",
       "      <th>original_title</th>\n",
       "      <th>overview</th>\n",
       "      <th>...</th>\n",
       "      <th>spoken_languages</th>\n",
       "      <th>status</th>\n",
       "      <th>tagline</th>\n",
       "      <th>title</th>\n",
       "      <th>video</th>\n",
       "      <th>vote_average</th>\n",
       "      <th>vote_count</th>\n",
       "      <th>Keywords</th>\n",
       "      <th>cast</th>\n",
       "      <th>crew</th>\n",
       "    </tr>\n",
       "  </thead>\n",
       "  <tbody>\n",
       "    <tr>\n",
       "      <th>0</th>\n",
       "      <td>/7IBpOrw0ATwL1AOV97mtsceDpYs.jpg</td>\n",
       "      <td>{'id': 556, 'name': 'Spider-Man Collection', '...</td>\n",
       "      <td>258000000</td>\n",
       "      <td>[{'id': 14, 'name': 'Fantasy'}, {'id': 28, 'na...</td>\n",
       "      <td>https://www.sonypictures.com/movies/spiderman3</td>\n",
       "      <td>559</td>\n",
       "      <td>tt0413300</td>\n",
       "      <td>en</td>\n",
       "      <td>Spider-Man 3</td>\n",
       "      <td>The seemingly invincible Spider-Man goes up ag...</td>\n",
       "      <td>...</td>\n",
       "      <td>[{'iso_639_1': 'en', 'name': 'English'}, {'iso...</td>\n",
       "      <td>Released</td>\n",
       "      <td>The battle within.</td>\n",
       "      <td>Spider-Man 3</td>\n",
       "      <td>False</td>\n",
       "      <td>6.2</td>\n",
       "      <td>8180</td>\n",
       "      <td>[{'id': 697, 'name': 'loss of loved one'}, {'i...</td>\n",
       "      <td>[{'cast_id': 30, 'character': 'Peter Parker / ...</td>\n",
       "      <td>[{'credit_id': '52fe4252c3a36847f80151a5', 'de...</td>\n",
       "    </tr>\n",
       "    <tr>\n",
       "      <th>1</th>\n",
       "      <td>/lYeE7k0OR3HXyoq7FeswyaxFJvL.jpg</td>\n",
       "      <td>{'id': 256296, 'name': 'Silent Night, Deadly N...</td>\n",
       "      <td>250000</td>\n",
       "      <td>[{'id': 35, 'name': 'Comedy'}, {'id': 27, 'nam...</td>\n",
       "      <td>NaN</td>\n",
       "      <td>50719</td>\n",
       "      <td>tt0093974</td>\n",
       "      <td>en</td>\n",
       "      <td>Silent Night, Deadly Night Part 2</td>\n",
       "      <td>After being traumatized by his brother Billy's...</td>\n",
       "      <td>...</td>\n",
       "      <td>[{'iso_639_1': 'en', 'name': 'English'}]</td>\n",
       "      <td>Released</td>\n",
       "      <td>The nightmare is about to begin ... AGAIN!</td>\n",
       "      <td>Silent Night, Deadly Night Part 2</td>\n",
       "      <td>False</td>\n",
       "      <td>4.3</td>\n",
       "      <td>68</td>\n",
       "      <td>[{'id': 65, 'name': 'holiday'}, {'id': 1991, '...</td>\n",
       "      <td>[{'cast_id': 1000, 'character': 'Ricky Caldwel...</td>\n",
       "      <td>[{'credit_id': '52fe47d4c3a36847f814a70f', 'de...</td>\n",
       "    </tr>\n",
       "    <tr>\n",
       "      <th>2</th>\n",
       "      <td>/gVXLIfMR2hLmkn0nACctlMCJBfx.jpg</td>\n",
       "      <td>NaN</td>\n",
       "      <td>0</td>\n",
       "      <td>[{'id': 99, 'name': 'Documentary'}]</td>\n",
       "      <td>https://www.scottymovie.com/</td>\n",
       "      <td>469062</td>\n",
       "      <td>tt2773246</td>\n",
       "      <td>en</td>\n",
       "      <td>Scotty and the Secret History of Hollywood</td>\n",
       "      <td>A deliciously scandalous portrait of unsung Ho...</td>\n",
       "      <td>...</td>\n",
       "      <td>[{'iso_639_1': 'en', 'name': 'English'}]</td>\n",
       "      <td>Released</td>\n",
       "      <td>NaN</td>\n",
       "      <td>Scotty and the Secret History of Hollywood</td>\n",
       "      <td>False</td>\n",
       "      <td>6.5</td>\n",
       "      <td>15</td>\n",
       "      <td>[{'id': 158718, 'name': 'lgbt'}]</td>\n",
       "      <td>[{'cast_id': 1, 'character': 'Himself', 'credi...</td>\n",
       "      <td>[{'credit_id': '5980e931c3a3680cfb002d0e', 'de...</td>\n",
       "    </tr>\n",
       "    <tr>\n",
       "      <th>3</th>\n",
       "      <td>/rKjE17ncAGNzeImNWbdGTimzjtk.jpg</td>\n",
       "      <td>{'id': 8917, 'name': 'Hellraiser Collection', ...</td>\n",
       "      <td>1000000</td>\n",
       "      <td>[{'id': 27, 'name': 'Horror'}]</td>\n",
       "      <td>NaN</td>\n",
       "      <td>9003</td>\n",
       "      <td>tt0093177</td>\n",
       "      <td>en</td>\n",
       "      <td>Hellraiser</td>\n",
       "      <td>An unfaithful wife encounters the zombie of he...</td>\n",
       "      <td>...</td>\n",
       "      <td>[{'iso_639_1': 'en', 'name': 'English'}]</td>\n",
       "      <td>Released</td>\n",
       "      <td>He'll tear your soul apart.</td>\n",
       "      <td>Hellraiser</td>\n",
       "      <td>False</td>\n",
       "      <td>6.9</td>\n",
       "      <td>1115</td>\n",
       "      <td>[{'id': 1449, 'name': 'underworld'}, {'id': 31...</td>\n",
       "      <td>[{'cast_id': 15, 'character': 'Larry Cotton', ...</td>\n",
       "      <td>[{'credit_id': '533fd9260e0a262b92001027', 'de...</td>\n",
       "    </tr>\n",
       "    <tr>\n",
       "      <th>4</th>\n",
       "      <td>/zcJxJVhvxNHJJ2J7Q7NhgO9nPUV.jpg</td>\n",
       "      <td>{'id': 108693, 'name': \"National Lampoon's Vac...</td>\n",
       "      <td>15000000</td>\n",
       "      <td>[{'id': 35, 'name': 'Comedy'}, {'id': 12, 'nam...</td>\n",
       "      <td>NaN</td>\n",
       "      <td>11153</td>\n",
       "      <td>tt0085995</td>\n",
       "      <td>en</td>\n",
       "      <td>National Lampoon's Vacation</td>\n",
       "      <td>Clark Griswold is on a quest to take his famil...</td>\n",
       "      <td>...</td>\n",
       "      <td>[{'iso_639_1': 'en', 'name': 'English'}]</td>\n",
       "      <td>Released</td>\n",
       "      <td>Every summer Chevy Chase takes his family on a...</td>\n",
       "      <td>National Lampoon's Vacation</td>\n",
       "      <td>False</td>\n",
       "      <td>7.1</td>\n",
       "      <td>782</td>\n",
       "      <td>[{'id': 5493, 'name': 'relatives'}, {'id': 731...</td>\n",
       "      <td>[{'cast_id': 1, 'character': 'Clark Griswold',...</td>\n",
       "      <td>[{'credit_id': '52fe44039251416c75025f27', 'de...</td>\n",
       "    </tr>\n",
       "  </tbody>\n",
       "</table>\n",
       "<p>5 rows × 27 columns</p>\n",
       "</div>"
      ],
      "text/plain": [
       "                      backdrop_path  \\\n",
       "0  /7IBpOrw0ATwL1AOV97mtsceDpYs.jpg   \n",
       "1  /lYeE7k0OR3HXyoq7FeswyaxFJvL.jpg   \n",
       "2  /gVXLIfMR2hLmkn0nACctlMCJBfx.jpg   \n",
       "3  /rKjE17ncAGNzeImNWbdGTimzjtk.jpg   \n",
       "4  /zcJxJVhvxNHJJ2J7Q7NhgO9nPUV.jpg   \n",
       "\n",
       "                               belongs_to_collection     budget  \\\n",
       "0  {'id': 556, 'name': 'Spider-Man Collection', '...  258000000   \n",
       "1  {'id': 256296, 'name': 'Silent Night, Deadly N...     250000   \n",
       "2                                                NaN          0   \n",
       "3  {'id': 8917, 'name': 'Hellraiser Collection', ...    1000000   \n",
       "4  {'id': 108693, 'name': \"National Lampoon's Vac...   15000000   \n",
       "\n",
       "                                              genres  \\\n",
       "0  [{'id': 14, 'name': 'Fantasy'}, {'id': 28, 'na...   \n",
       "1  [{'id': 35, 'name': 'Comedy'}, {'id': 27, 'nam...   \n",
       "2                [{'id': 99, 'name': 'Documentary'}]   \n",
       "3                     [{'id': 27, 'name': 'Horror'}]   \n",
       "4  [{'id': 35, 'name': 'Comedy'}, {'id': 12, 'nam...   \n",
       "\n",
       "                                         homepage      id    imdb_id  \\\n",
       "0  https://www.sonypictures.com/movies/spiderman3     559  tt0413300   \n",
       "1                                             NaN   50719  tt0093974   \n",
       "2                    https://www.scottymovie.com/  469062  tt2773246   \n",
       "3                                             NaN    9003  tt0093177   \n",
       "4                                             NaN   11153  tt0085995   \n",
       "\n",
       "  original_language                              original_title  \\\n",
       "0                en                                Spider-Man 3   \n",
       "1                en           Silent Night, Deadly Night Part 2   \n",
       "2                en  Scotty and the Secret History of Hollywood   \n",
       "3                en                                  Hellraiser   \n",
       "4                en                 National Lampoon's Vacation   \n",
       "\n",
       "                                            overview  ...  \\\n",
       "0  The seemingly invincible Spider-Man goes up ag...  ...   \n",
       "1  After being traumatized by his brother Billy's...  ...   \n",
       "2  A deliciously scandalous portrait of unsung Ho...  ...   \n",
       "3  An unfaithful wife encounters the zombie of he...  ...   \n",
       "4  Clark Griswold is on a quest to take his famil...  ...   \n",
       "\n",
       "                                    spoken_languages    status  \\\n",
       "0  [{'iso_639_1': 'en', 'name': 'English'}, {'iso...  Released   \n",
       "1           [{'iso_639_1': 'en', 'name': 'English'}]  Released   \n",
       "2           [{'iso_639_1': 'en', 'name': 'English'}]  Released   \n",
       "3           [{'iso_639_1': 'en', 'name': 'English'}]  Released   \n",
       "4           [{'iso_639_1': 'en', 'name': 'English'}]  Released   \n",
       "\n",
       "                                             tagline  \\\n",
       "0                                 The battle within.   \n",
       "1         The nightmare is about to begin ... AGAIN!   \n",
       "2                                                NaN   \n",
       "3                        He'll tear your soul apart.   \n",
       "4  Every summer Chevy Chase takes his family on a...   \n",
       "\n",
       "                                        title  video  vote_average  \\\n",
       "0                                Spider-Man 3  False           6.2   \n",
       "1           Silent Night, Deadly Night Part 2  False           4.3   \n",
       "2  Scotty and the Secret History of Hollywood  False           6.5   \n",
       "3                                  Hellraiser  False           6.9   \n",
       "4                 National Lampoon's Vacation  False           7.1   \n",
       "\n",
       "   vote_count                                           Keywords  \\\n",
       "0        8180  [{'id': 697, 'name': 'loss of loved one'}, {'i...   \n",
       "1          68  [{'id': 65, 'name': 'holiday'}, {'id': 1991, '...   \n",
       "2          15                   [{'id': 158718, 'name': 'lgbt'}]   \n",
       "3        1115  [{'id': 1449, 'name': 'underworld'}, {'id': 31...   \n",
       "4         782  [{'id': 5493, 'name': 'relatives'}, {'id': 731...   \n",
       "\n",
       "                                                cast  \\\n",
       "0  [{'cast_id': 30, 'character': 'Peter Parker / ...   \n",
       "1  [{'cast_id': 1000, 'character': 'Ricky Caldwel...   \n",
       "2  [{'cast_id': 1, 'character': 'Himself', 'credi...   \n",
       "3  [{'cast_id': 15, 'character': 'Larry Cotton', ...   \n",
       "4  [{'cast_id': 1, 'character': 'Clark Griswold',...   \n",
       "\n",
       "                                                crew  \n",
       "0  [{'credit_id': '52fe4252c3a36847f80151a5', 'de...  \n",
       "1  [{'credit_id': '52fe47d4c3a36847f814a70f', 'de...  \n",
       "2  [{'credit_id': '5980e931c3a3680cfb002d0e', 'de...  \n",
       "3  [{'credit_id': '533fd9260e0a262b92001027', 'de...  \n",
       "4  [{'credit_id': '52fe44039251416c75025f27', 'de...  \n",
       "\n",
       "[5 rows x 27 columns]"
      ]
     },
     "execution_count": 3,
     "metadata": {},
     "output_type": "execute_result"
    }
   ],
   "source": [
    "train.head(5)"
   ]
  },
  {
   "cell_type": "markdown",
   "metadata": {},
   "source": [
    "# Data Preperation"
   ]
  },
  {
   "cell_type": "markdown",
   "metadata": {},
   "source": [
    "## Data Cleansing"
   ]
  },
  {
   "cell_type": "code",
   "execution_count": 4,
   "metadata": {},
   "outputs": [],
   "source": [
    "train = train.fillna(0)"
   ]
  },
  {
   "cell_type": "code",
   "execution_count": 5,
   "metadata": {},
   "outputs": [],
   "source": [
    "train = train[train['revenue'] > 500] #drop all rows with missing revenue/ revenue less than 500"
   ]
  },
  {
   "cell_type": "code",
   "execution_count": 6,
   "metadata": {},
   "outputs": [],
   "source": [
    "train['release_date'] = [datetime.strptime(x, '%Y-%m-%d').date() for x in train['release_date'].values]"
   ]
  },
  {
   "cell_type": "code",
   "execution_count": 7,
   "metadata": {},
   "outputs": [],
   "source": [
    "train['belongs_to_collection'] = [eval(x)['name'] if x != 0 else 0 for x in train['belongs_to_collection'].values]"
   ]
  },
  {
   "cell_type": "code",
   "execution_count": 8,
   "metadata": {},
   "outputs": [],
   "source": [
    "train['genres'] = [[y['name'] for y in ast.literal_eval(x)] if x != 0 else 0 for x in train['genres'].values]"
   ]
  },
  {
   "cell_type": "code",
   "execution_count": 9,
   "metadata": {},
   "outputs": [],
   "source": [
    "train['production_companies'] = [[y['name'] for y in ast.literal_eval(x)] if x != 0 else 0 for x in train['production_companies'].values]"
   ]
  },
  {
   "cell_type": "code",
   "execution_count": 10,
   "metadata": {},
   "outputs": [],
   "source": [
    "train['production_countries'] = [[y['iso_3166_1'] for y in ast.literal_eval(x)] if x != 0 else 0 for x in train['production_countries'].values]"
   ]
  },
  {
   "cell_type": "code",
   "execution_count": 11,
   "metadata": {},
   "outputs": [],
   "source": [
    "train['spoken_languages'] = [[y['iso_639_1'] for y in ast.literal_eval(x)] if x != 0 else 0 for x in train['spoken_languages'].values]"
   ]
  },
  {
   "cell_type": "code",
   "execution_count": 12,
   "metadata": {},
   "outputs": [],
   "source": [
    "train['Keywords'] = [[y['name'] for y in ast.literal_eval(x)] if x != 0 else 0 for x in train['Keywords'].values]"
   ]
  },
  {
   "cell_type": "code",
   "execution_count": 13,
   "metadata": {},
   "outputs": [],
   "source": [
    "train['cast'] = [[y['name'] for y in ast.literal_eval(x)] if x != 0 else 0 for x in train['cast'].values]"
   ]
  },
  {
   "cell_type": "code",
   "execution_count": 14,
   "metadata": {},
   "outputs": [],
   "source": [
    "train['crew'] = [[y['name'] for y in ast.literal_eval(x)] if x != 0 else 0 for x in train['crew'].values]"
   ]
  },
  {
   "cell_type": "code",
   "execution_count": 15,
   "metadata": {},
   "outputs": [],
   "source": [
    "train['release_year'] = [x.year for x in train['release_date'].values]\n",
    "train['release_month'] = [x.month for x in train['release_date'].values]\n",
    "train['release_day'] = [x.day for x in train['release_date'].values]\n",
    "train['release_day_week'] = [x.weekday() for x in train['release_date'].values]\n",
    "train['days_diff'] = [(datetime.today().date() - x).days  for x in train['release_date'].values]"
   ]
  },
  {
   "cell_type": "markdown",
   "metadata": {},
   "source": [
    "## Missing Values Imputation"
   ]
  },
  {
   "cell_type": "code",
   "execution_count": 16,
   "metadata": {},
   "outputs": [],
   "source": [
    "#impute budget \n",
    "train['decade'] = [math.floor(x%10000/1000)*1000 + math.floor(x%1000/100)*100 + math.floor((x)%100/10)*10 for x in train['release_year'].values]\n",
    "mean_budget_decade = train[['decade','budget']].groupby('decade').mean()\n",
    "mean_budget_decade = mean_budget_decade.rename(columns = {'budget':'mean_budget_decade'})\n",
    "mean_budget_decade.to_pickle(\"mean_budget_decade.pkl\")\n",
    "\n",
    "\n",
    "mean_budget_year = train[['release_year','budget']].groupby('release_year').mean()\n",
    "mean_budget_year = mean_budget_year.rename(columns = {'budget':'mean_budget_year'})\n",
    "mean_budget_year.to_pickle(\"mean_budget_year.pkl\")"
   ]
  },
  {
   "cell_type": "code",
   "execution_count": 17,
   "metadata": {},
   "outputs": [],
   "source": [
    "train = pd.merge(train, mean_budget_decade, left_on='decade', right_on='decade') # join with decade budget"
   ]
  },
  {
   "cell_type": "code",
   "execution_count": 18,
   "metadata": {},
   "outputs": [],
   "source": [
    "train = pd.merge(train, mean_budget_year, left_on='release_year', right_on='release_year') # join with decade budget"
   ]
  },
  {
   "cell_type": "code",
   "execution_count": 19,
   "metadata": {},
   "outputs": [],
   "source": [
    "# ~1400 imputation\n",
    "train['budget'] = [x if x != 0 else (y if y != 0 else z) for x,y,z in zip(train['budget'].values, train['mean_budget_year'].values, train['mean_budget_decade'].values)]"
   ]
  },
  {
   "cell_type": "markdown",
   "metadata": {},
   "source": [
    "## Feature Engineering"
   ]
  },
  {
   "cell_type": "markdown",
   "metadata": {},
   "source": [
    "### Counts Attributes"
   ]
  },
  {
   "cell_type": "code",
   "execution_count": 20,
   "metadata": {},
   "outputs": [],
   "source": [
    "train['genres_count'] = [len(x) for x in train['genres'].values]"
   ]
  },
  {
   "cell_type": "code",
   "execution_count": 21,
   "metadata": {},
   "outputs": [],
   "source": [
    "train['production_companies_count'] = [len(x) for x in train['production_companies'].values]"
   ]
  },
  {
   "cell_type": "code",
   "execution_count": 22,
   "metadata": {},
   "outputs": [],
   "source": [
    "train['production_countries_count'] = [len(x) for x in train['production_countries'].values]"
   ]
  },
  {
   "cell_type": "code",
   "execution_count": 23,
   "metadata": {},
   "outputs": [],
   "source": [
    "train['languages_count'] = [len(x) for x in train['spoken_languages'].values]"
   ]
  },
  {
   "cell_type": "code",
   "execution_count": 24,
   "metadata": {},
   "outputs": [],
   "source": [
    "train['Keywords_count'] = [len(x) for x in train['Keywords'].values]"
   ]
  },
  {
   "cell_type": "code",
   "execution_count": 25,
   "metadata": {},
   "outputs": [],
   "source": [
    "train['cast_count'] = [len(x) for x in train['cast'].values]"
   ]
  },
  {
   "cell_type": "code",
   "execution_count": 26,
   "metadata": {},
   "outputs": [],
   "source": [
    "train['crew_count'] = [len(x) for x in train['crew'].values]"
   ]
  },
  {
   "cell_type": "markdown",
   "metadata": {},
   "source": [
    "### One Hot Encoding for categorical attributes"
   ]
  },
  {
   "cell_type": "code",
   "execution_count": 27,
   "metadata": {},
   "outputs": [],
   "source": [
    "def one_hot_encode(df, attribute, frac):\n",
    "    total_list = []\n",
    "    for y in [x for x in df[str(attribute)].values]:\n",
    "        for z in y:\n",
    "            total_list.append(z.lower().replace('productions','').replace('pictures',''))\n",
    "\n",
    "    values_set = set(total_list) # get distinct values\n",
    "    filtered_set =[x for x in values_set if (total_list.count(x) / len(total_list) > frac)] #get most common values\n",
    "    print('distinct values for', attribute,' are:', len(filtered_set))\n",
    "    for val in filtered_set:\n",
    "        filterd_val = val.lower().replace('productions','').replace('pictures','')\n",
    "        df[str(val)] = [1 if filterd_val in [xx.lower().replace('productions','').replace('pictures','') for xx in x] else 0 for x in df[str(attribute)].values]\n",
    "    \n",
    "    return df, filtered_set"
   ]
  },
  {
   "cell_type": "code",
   "execution_count": 28,
   "metadata": {},
   "outputs": [
    {
     "name": "stdout",
     "output_type": "stream",
     "text": [
      "distinct values for genres  are: 9\n",
      "distinct values for production_companies  are: 6\n",
      "distinct values for production_countries  are: 3\n",
      "distinct values for spoken_languages  are: 3\n"
     ]
    }
   ],
   "source": [
    "train, genres_list = one_hot_encode(train,'genres', 0.04) #9\n",
    "train, p_companies_list = one_hot_encode(train,'production_companies', 0.010) #6\n",
    "train, p_countries_list = one_hot_encode(train,'production_countries', 0.05) #3\n",
    "train, languages_list = one_hot_encode(train,'spoken_languages', 0.05) #3"
   ]
  },
  {
   "cell_type": "code",
   "execution_count": 29,
   "metadata": {},
   "outputs": [],
   "source": [
    "import pickle\n",
    "pickle.dump(genres_list, open( \"genres_list.pkl\", \"wb\" ))\n",
    "pickle.dump(p_companies_list, open( \"p_companies_list.pkl\", \"wb\" ))\n",
    "pickle.dump(p_countries_list, open( \"p_countries_list.pkl\", \"wb\" ))\n",
    "pickle.dump(languages_list, open( \"languages_list.pkl\", \"wb\" ))"
   ]
  },
  {
   "cell_type": "markdown",
   "metadata": {},
   "source": [
    "### Statistical Attributes"
   ]
  },
  {
   "cell_type": "code",
   "execution_count": 30,
   "metadata": {},
   "outputs": [],
   "source": [
    "medians = train[['release_year','revenue']].groupby('release_year').median()\n",
    "medians = medians.rename(columns={\"revenue\": \"revenue_median\"})\n",
    "means = train[['release_year','revenue']].groupby('release_year').mean()\n",
    "means = means.rename(columns={\"revenue\": \"revenue_mean\"})\n",
    "total_movies = train[['release_year','id']].groupby('release_year').count()\n",
    "total_movies = total_movies.rename(columns = {'id':'total_movies_year'})\n",
    "collection_count = train[['belongs_to_collection','id']].groupby('belongs_to_collection').count()\n",
    "collection_count = collection_count.rename(columns = {'id':'collection_size'})\n",
    "collection_count = collection_count.replace(4068, 0)\n",
    "\n",
    "\n",
    "\n",
    "medians.to_pickle(\"medians.pkl\")\n",
    "means.to_pickle(\"means.pkl\")\n",
    "total_movies.to_pickle(\"total_movies.pkl\")\n",
    "collection_count.to_pickle(\"collection_count.pkl\")"
   ]
  },
  {
   "cell_type": "code",
   "execution_count": 31,
   "metadata": {},
   "outputs": [],
   "source": [
    "train = pd.merge(train, total_movies, left_on='release_year', right_on='release_year')"
   ]
  },
  {
   "cell_type": "code",
   "execution_count": 32,
   "metadata": {},
   "outputs": [],
   "source": [
    "train = pd.merge(train, medians, left_on='release_year', right_on='release_year')"
   ]
  },
  {
   "cell_type": "code",
   "execution_count": 33,
   "metadata": {},
   "outputs": [],
   "source": [
    "train = pd.merge(train, means, left_on='release_year', right_on='release_year')"
   ]
  },
  {
   "cell_type": "code",
   "execution_count": 34,
   "metadata": {},
   "outputs": [],
   "source": [
    "train = pd.merge(train, collection_count, left_on='belongs_to_collection', right_on='belongs_to_collection')"
   ]
  },
  {
   "cell_type": "markdown",
   "metadata": {},
   "source": [
    "## External Data Sources"
   ]
  },
  {
   "cell_type": "markdown",
   "metadata": {},
   "source": [
    "### Oscars"
   ]
  },
  {
   "cell_type": "code",
   "execution_count": 35,
   "metadata": {},
   "outputs": [],
   "source": [
    "oscars_df = pd.read_csv('oscars_data.csv')"
   ]
  },
  {
   "cell_type": "code",
   "execution_count": 36,
   "metadata": {},
   "outputs": [],
   "source": [
    "table = str.maketrans(dict.fromkeys(string.punctuation)) #to be used to convert names"
   ]
  },
  {
   "cell_type": "code",
   "execution_count": 37,
   "metadata": {},
   "outputs": [
    {
     "data": {
      "text/html": [
       "<div>\n",
       "<style scoped>\n",
       "    .dataframe tbody tr th:only-of-type {\n",
       "        vertical-align: middle;\n",
       "    }\n",
       "\n",
       "    .dataframe tbody tr th {\n",
       "        vertical-align: top;\n",
       "    }\n",
       "\n",
       "    .dataframe thead th {\n",
       "        text-align: right;\n",
       "    }\n",
       "</style>\n",
       "<table border=\"1\" class=\"dataframe\">\n",
       "  <thead>\n",
       "    <tr style=\"text-align: right;\">\n",
       "      <th></th>\n",
       "      <th>year</th>\n",
       "      <th>category</th>\n",
       "      <th>winner</th>\n",
       "      <th>entity</th>\n",
       "    </tr>\n",
       "  </thead>\n",
       "  <tbody>\n",
       "    <tr>\n",
       "      <th>0</th>\n",
       "      <td>1927</td>\n",
       "      <td>ACTOR</td>\n",
       "      <td>False</td>\n",
       "      <td>Richard Barthelmess</td>\n",
       "    </tr>\n",
       "    <tr>\n",
       "      <th>1</th>\n",
       "      <td>1927</td>\n",
       "      <td>ACTOR</td>\n",
       "      <td>True</td>\n",
       "      <td>Emil Jannings</td>\n",
       "    </tr>\n",
       "    <tr>\n",
       "      <th>2</th>\n",
       "      <td>1927</td>\n",
       "      <td>ACTRESS</td>\n",
       "      <td>False</td>\n",
       "      <td>Louise Dresser</td>\n",
       "    </tr>\n",
       "    <tr>\n",
       "      <th>3</th>\n",
       "      <td>1927</td>\n",
       "      <td>ACTRESS</td>\n",
       "      <td>True</td>\n",
       "      <td>Janet Gaynor</td>\n",
       "    </tr>\n",
       "    <tr>\n",
       "      <th>4</th>\n",
       "      <td>1927</td>\n",
       "      <td>ACTRESS</td>\n",
       "      <td>False</td>\n",
       "      <td>Gloria Swanson</td>\n",
       "    </tr>\n",
       "  </tbody>\n",
       "</table>\n",
       "</div>"
      ],
      "text/plain": [
       "   year category  winner               entity\n",
       "0  1927    ACTOR   False  Richard Barthelmess\n",
       "1  1927    ACTOR    True        Emil Jannings\n",
       "2  1927  ACTRESS   False       Louise Dresser\n",
       "3  1927  ACTRESS    True         Janet Gaynor\n",
       "4  1927  ACTRESS   False       Gloria Swanson"
      ]
     },
     "execution_count": 37,
     "metadata": {},
     "output_type": "execute_result"
    }
   ],
   "source": [
    "oscars_df.head()"
   ]
  },
  {
   "cell_type": "code",
   "execution_count": 38,
   "metadata": {},
   "outputs": [],
   "source": [
    "all_categorys = [x for x in set(oscars_df['category'].values)]"
   ]
  },
  {
   "cell_type": "code",
   "execution_count": 39,
   "metadata": {},
   "outputs": [],
   "source": [
    "good_categorys = [x for x in all_categorys if not x.startswith('SCIENTIFIC AND TECHNICAL AWARD') and not  x.startswith('SCIENTIFIC OR TECHNICAL AWARD') and not x.endswith('AWARD')]"
   ]
  },
  {
   "cell_type": "code",
   "execution_count": 40,
   "metadata": {},
   "outputs": [],
   "source": [
    "oscars_df = oscars_df[oscars_df['category'].isin(good_categorys)] #take all categorys with spesific winners"
   ]
  },
  {
   "cell_type": "code",
   "execution_count": 41,
   "metadata": {},
   "outputs": [],
   "source": [
    "actors_df = oscars_df[[True if x.startswith('ACT') else False for x in oscars_df['category'].values]] #take rows with actors names (not movies)"
   ]
  },
  {
   "cell_type": "code",
   "execution_count": 42,
   "metadata": {},
   "outputs": [],
   "source": [
    "winning_actors_df = actors_df[actors_df['winner'] == True]\n",
    "nominies_actors_df = actors_df[actors_df['winner'] == False]"
   ]
  },
  {
   "cell_type": "code",
   "execution_count": 43,
   "metadata": {},
   "outputs": [
    {
     "data": {
      "text/html": [
       "<div>\n",
       "<style scoped>\n",
       "    .dataframe tbody tr th:only-of-type {\n",
       "        vertical-align: middle;\n",
       "    }\n",
       "\n",
       "    .dataframe tbody tr th {\n",
       "        vertical-align: top;\n",
       "    }\n",
       "\n",
       "    .dataframe thead th {\n",
       "        text-align: right;\n",
       "    }\n",
       "</style>\n",
       "<table border=\"1\" class=\"dataframe\">\n",
       "  <thead>\n",
       "    <tr style=\"text-align: right;\">\n",
       "      <th></th>\n",
       "      <th>winner</th>\n",
       "      <th>name</th>\n",
       "    </tr>\n",
       "    <tr>\n",
       "      <th>entity</th>\n",
       "      <th></th>\n",
       "      <th></th>\n",
       "    </tr>\n",
       "  </thead>\n",
       "  <tbody>\n",
       "    <tr>\n",
       "      <th>Adrien Brody</th>\n",
       "      <td>1</td>\n",
       "      <td>adrien brody</td>\n",
       "    </tr>\n",
       "    <tr>\n",
       "      <th>Al Pacino</th>\n",
       "      <td>1</td>\n",
       "      <td>al pacino</td>\n",
       "    </tr>\n",
       "    <tr>\n",
       "      <th>Alan Arkin</th>\n",
       "      <td>1</td>\n",
       "      <td>alan arkin</td>\n",
       "    </tr>\n",
       "    <tr>\n",
       "      <th>Alec Guinness</th>\n",
       "      <td>1</td>\n",
       "      <td>alec guinness</td>\n",
       "    </tr>\n",
       "    <tr>\n",
       "      <th>Alice Brady</th>\n",
       "      <td>1</td>\n",
       "      <td>alice brady</td>\n",
       "    </tr>\n",
       "  </tbody>\n",
       "</table>\n",
       "</div>"
      ],
      "text/plain": [
       "               winner           name\n",
       "entity                              \n",
       "Adrien Brody        1   adrien brody\n",
       "Al Pacino           1      al pacino\n",
       "Alan Arkin          1     alan arkin\n",
       "Alec Guinness       1  alec guinness\n",
       "Alice Brady         1    alice brady"
      ]
     },
     "execution_count": 43,
     "metadata": {},
     "output_type": "execute_result"
    }
   ],
   "source": [
    "actors_winnings = winning_actors_df[['winner','entity']].groupby('entity').count()\n",
    "actors_winnings['name'] = [x.lower() for x in actors_winnings.index]\n",
    "actors_winnings.to_pickle(\"actors_winnings.pkl\")\n",
    "actors_winnings_dic = {name:win for name,win in zip(actors_winnings['name'].values,actors_winnings['winner'].values)}\n",
    "actors_winnings.head(5)"
   ]
  },
  {
   "cell_type": "code",
   "execution_count": 44,
   "metadata": {},
   "outputs": [
    {
     "data": {
      "text/html": [
       "<div>\n",
       "<style scoped>\n",
       "    .dataframe tbody tr th:only-of-type {\n",
       "        vertical-align: middle;\n",
       "    }\n",
       "\n",
       "    .dataframe tbody tr th {\n",
       "        vertical-align: top;\n",
       "    }\n",
       "\n",
       "    .dataframe thead th {\n",
       "        text-align: right;\n",
       "    }\n",
       "</style>\n",
       "<table border=\"1\" class=\"dataframe\">\n",
       "  <thead>\n",
       "    <tr style=\"text-align: right;\">\n",
       "      <th></th>\n",
       "      <th>winner</th>\n",
       "      <th>name</th>\n",
       "    </tr>\n",
       "    <tr>\n",
       "      <th>entity</th>\n",
       "      <th></th>\n",
       "      <th></th>\n",
       "    </tr>\n",
       "  </thead>\n",
       "  <tbody>\n",
       "    <tr>\n",
       "      <th>Abigail Breslin</th>\n",
       "      <td>1</td>\n",
       "      <td>abigail breslin</td>\n",
       "    </tr>\n",
       "    <tr>\n",
       "      <th>Adolph Caesar</th>\n",
       "      <td>1</td>\n",
       "      <td>adolph caesar</td>\n",
       "    </tr>\n",
       "    <tr>\n",
       "      <th>Adolphe Menjou</th>\n",
       "      <td>1</td>\n",
       "      <td>adolphe menjou</td>\n",
       "    </tr>\n",
       "    <tr>\n",
       "      <th>Adriana Barraza</th>\n",
       "      <td>1</td>\n",
       "      <td>adriana barraza</td>\n",
       "    </tr>\n",
       "    <tr>\n",
       "      <th>Agnes Moorehead</th>\n",
       "      <td>4</td>\n",
       "      <td>agnes moorehead</td>\n",
       "    </tr>\n",
       "  </tbody>\n",
       "</table>\n",
       "</div>"
      ],
      "text/plain": [
       "                 winner             name\n",
       "entity                                  \n",
       "Abigail Breslin       1  abigail breslin\n",
       "Adolph Caesar         1    adolph caesar\n",
       "Adolphe Menjou        1   adolphe menjou\n",
       "Adriana Barraza       1  adriana barraza\n",
       "Agnes Moorehead       4  agnes moorehead"
      ]
     },
     "execution_count": 44,
     "metadata": {},
     "output_type": "execute_result"
    }
   ],
   "source": [
    "actors_nominies = nominies_actors_df[['winner','entity']].groupby('entity').count()\n",
    "actors_nominies['name'] = [x.lower() for x in actors_nominies.index]\n",
    "actors_nominies.to_pickle(\"actors_nominies.pkl\")\n",
    "actors_nominies_dic = {name:win for name,win in zip(actors_nominies['name'].values,actors_nominies['winner'].values)}\n",
    "actors_nominies.head(5)"
   ]
  },
  {
   "cell_type": "code",
   "execution_count": 45,
   "metadata": {},
   "outputs": [],
   "source": [
    "movies_df = oscars_df[[False if x.startswith('ACT') else True for x in oscars_df['category'].values]] #take rows with movie names"
   ]
  },
  {
   "cell_type": "code",
   "execution_count": 46,
   "metadata": {},
   "outputs": [],
   "source": [
    "winning_movies_df = movies_df[movies_df['winner'] == True]\n",
    "nominies_movies_df = movies_df[movies_df['winner'] == False]"
   ]
  },
  {
   "cell_type": "code",
   "execution_count": 47,
   "metadata": {},
   "outputs": [
    {
     "data": {
      "text/html": [
       "<div>\n",
       "<style scoped>\n",
       "    .dataframe tbody tr th:only-of-type {\n",
       "        vertical-align: middle;\n",
       "    }\n",
       "\n",
       "    .dataframe tbody tr th {\n",
       "        vertical-align: top;\n",
       "    }\n",
       "\n",
       "    .dataframe thead th {\n",
       "        text-align: right;\n",
       "    }\n",
       "</style>\n",
       "<table border=\"1\" class=\"dataframe\">\n",
       "  <thead>\n",
       "    <tr style=\"text-align: right;\">\n",
       "      <th></th>\n",
       "      <th>movie_oscars</th>\n",
       "      <th>name</th>\n",
       "    </tr>\n",
       "    <tr>\n",
       "      <th>entity</th>\n",
       "      <th></th>\n",
       "      <th></th>\n",
       "    </tr>\n",
       "  </thead>\n",
       "  <tbody>\n",
       "    <tr>\n",
       "      <th>'Round Midnight</th>\n",
       "      <td>1</td>\n",
       "      <td>round midnight</td>\n",
       "    </tr>\n",
       "    <tr>\n",
       "      <th>12 Years a Slave</th>\n",
       "      <td>2</td>\n",
       "      <td>12 years a slave</td>\n",
       "    </tr>\n",
       "    <tr>\n",
       "      <th>20 Feet from Stardom</th>\n",
       "      <td>1</td>\n",
       "      <td>20 feet from stardom</td>\n",
       "    </tr>\n",
       "    <tr>\n",
       "      <th>20,000 Leagues under the Sea</th>\n",
       "      <td>2</td>\n",
       "      <td>20000 leagues under the sea</td>\n",
       "    </tr>\n",
       "    <tr>\n",
       "      <th>2001: A Space Odyssey</th>\n",
       "      <td>1</td>\n",
       "      <td>2001 a space odyssey</td>\n",
       "    </tr>\n",
       "  </tbody>\n",
       "</table>\n",
       "</div>"
      ],
      "text/plain": [
       "                              movie_oscars                         name\n",
       "entity                                                                 \n",
       "'Round Midnight                          1               round midnight\n",
       "12 Years a Slave                         2             12 years a slave\n",
       "20 Feet from Stardom                     1         20 feet from stardom\n",
       "20,000 Leagues under the Sea             2  20000 leagues under the sea\n",
       "2001: A Space Odyssey                    1         2001 a space odyssey"
      ]
     },
     "execution_count": 47,
     "metadata": {},
     "output_type": "execute_result"
    }
   ],
   "source": [
    "movies_winnings = winning_movies_df[['winner','entity']].groupby('entity').count()\n",
    "movies_winnings['name'] = [x.lower().translate(table) for x in movies_winnings.index]\n",
    "movies_winnings = movies_winnings.rename(columns={\"winner\": \"movie_oscars\"})\n",
    "movies_winnings.to_pickle(\"movies_winnings.pkl\")\n",
    "movies_winnings.head(5)"
   ]
  },
  {
   "cell_type": "code",
   "execution_count": 48,
   "metadata": {},
   "outputs": [
    {
     "data": {
      "text/html": [
       "<div>\n",
       "<style scoped>\n",
       "    .dataframe tbody tr th:only-of-type {\n",
       "        vertical-align: middle;\n",
       "    }\n",
       "\n",
       "    .dataframe tbody tr th {\n",
       "        vertical-align: top;\n",
       "    }\n",
       "\n",
       "    .dataframe thead th {\n",
       "        text-align: right;\n",
       "    }\n",
       "</style>\n",
       "<table border=\"1\" class=\"dataframe\">\n",
       "  <thead>\n",
       "    <tr style=\"text-align: right;\">\n",
       "      <th></th>\n",
       "      <th>movie_nominies</th>\n",
       "      <th>name</th>\n",
       "    </tr>\n",
       "    <tr>\n",
       "      <th>entity</th>\n",
       "      <th></th>\n",
       "      <th></th>\n",
       "    </tr>\n",
       "  </thead>\n",
       "  <tbody>\n",
       "    <tr>\n",
       "      <th>$1,000 a Minute</th>\n",
       "      <td>1</td>\n",
       "      <td>1000 a minute</td>\n",
       "    </tr>\n",
       "    <tr>\n",
       "      <th>'38'</th>\n",
       "      <td>1</td>\n",
       "      <td>38</td>\n",
       "    </tr>\n",
       "    <tr>\n",
       "      <th>'Crocodile' Dundee</th>\n",
       "      <td>1</td>\n",
       "      <td>crocodile dundee</td>\n",
       "    </tr>\n",
       "    <tr>\n",
       "      <th>(A) Torzija [(A) Torsion]</th>\n",
       "      <td>1</td>\n",
       "      <td>a torzija a torsion</td>\n",
       "    </tr>\n",
       "    <tr>\n",
       "      <th>...And Justice for All</th>\n",
       "      <td>1</td>\n",
       "      <td>and justice for all</td>\n",
       "    </tr>\n",
       "  </tbody>\n",
       "</table>\n",
       "</div>"
      ],
      "text/plain": [
       "                           movie_nominies                 name\n",
       "entity                                                        \n",
       "$1,000 a Minute                         1        1000 a minute\n",
       "'38'                                    1                   38\n",
       "'Crocodile' Dundee                      1     crocodile dundee\n",
       "(A) Torzija [(A) Torsion]               1  a torzija a torsion\n",
       "...And Justice for All                  1  and justice for all"
      ]
     },
     "execution_count": 48,
     "metadata": {},
     "output_type": "execute_result"
    }
   ],
   "source": [
    "movies_nominies = nominies_movies_df[['winner','entity']].groupby('entity').count()\n",
    "movies_nominies['name'] = [x.lower().translate(table) for x in movies_nominies.index]\n",
    "movies_nominies = movies_nominies.rename(columns={\"winner\": \"movie_nominies\"})\n",
    "movies_nominies.to_pickle(\"movies_nominies.pkl\")\n",
    "movies_nominies.head(5)"
   ]
  },
  {
   "cell_type": "code",
   "execution_count": 49,
   "metadata": {},
   "outputs": [],
   "source": [
    "def get_total_oscars(names_list, winning_dic):\n",
    "    total_oscars = 0\n",
    "    for x in names_list:\n",
    "        x = x.lower()\n",
    "        if x in winning_dic.keys():\n",
    "            total_oscars += winning_dic[x]\n",
    "    return total_oscars"
   ]
  },
  {
   "cell_type": "code",
   "execution_count": 50,
   "metadata": {},
   "outputs": [],
   "source": [
    "#get oscars and nominees for actors in movies\n",
    "train['total_actors_oscars'] = [get_total_oscars(x, actors_winnings_dic) for x in train['cast'].values]\n",
    "train['total_actors_nominies'] = [get_total_oscars(x, actors_nominies_dic) for x in train['cast'].values]"
   ]
  },
  {
   "cell_type": "code",
   "execution_count": 51,
   "metadata": {},
   "outputs": [],
   "source": [
    "#get oscars and nominees for movies\n",
    "train['original_title'] = [x.lower().translate(table) for x in train['original_title'].values]\n",
    "train = pd.merge(train, movies_winnings, left_on='original_title', right_on='name', how = 'left').fillna(0)\n",
    "train = pd.merge(train, movies_nominies, left_on='original_title', right_on='name', how = 'left').fillna(0)\n",
    "train = train.drop(columns = ['name_x','name_y'])"
   ]
  },
  {
   "cell_type": "markdown",
   "metadata": {},
   "source": [
    "### Famous Actors & Directors"
   ]
  },
  {
   "cell_type": "code",
   "execution_count": 52,
   "metadata": {},
   "outputs": [],
   "source": [
    "famous_actors_df = pd.read_csv('top_actors.csv', encoding='latin-1') #https://www.imdb.com/list/ls058011111/\n",
    "famous_actors_df.to_pickle(\"famous_actors_df.pkl\")\n",
    "\n",
    "famous_directors_df = pd.read_csv('top_directors.csv', encoding='latin-1') #https://www.imdb.com/list/ls066140407/\n",
    "famous_directors_df.to_pickle(\"famous_directors_df.pkl\")"
   ]
  },
  {
   "cell_type": "code",
   "execution_count": 53,
   "metadata": {},
   "outputs": [],
   "source": [
    "famous_actors = [x.lower() for x in famous_actors_df['Name'].values]\n",
    "famous_directors = [x.lower() for x in famous_directors_df['Name'].values]"
   ]
  },
  {
   "cell_type": "code",
   "execution_count": 54,
   "metadata": {},
   "outputs": [],
   "source": [
    "def get_famous(names_list, famous_list):\n",
    "    total_famous = 0\n",
    "    for x in names_list:\n",
    "        x = x.lower()\n",
    "        if x in famous_list:\n",
    "            total_famous += 1000 - famous_list.index(x)\n",
    "    return total_famous"
   ]
  },
  {
   "cell_type": "code",
   "execution_count": 55,
   "metadata": {},
   "outputs": [],
   "source": [
    "train['famous_actors'] = [get_famous(x, famous_actors) for x in train['cast'].values] #get famous actors score\n",
    "train['famous_directors'] = [get_famous(x, famous_directors) for x in train['crew'].values] #get famous directors score\n",
    "train['famous_crew'] = [get_famous(x, famous_actors) for x in train['crew'].values] #get famous actors (in crew) score"
   ]
  },
  {
   "cell_type": "markdown",
   "metadata": {},
   "source": [
    "# Test Data"
   ]
  },
  {
   "cell_type": "code",
   "execution_count": 56,
   "metadata": {},
   "outputs": [],
   "source": [
    "test = pd.read_csv('test.tsv', sep = '\\t')"
   ]
  },
  {
   "cell_type": "code",
   "execution_count": 57,
   "metadata": {},
   "outputs": [
    {
     "data": {
      "text/html": [
       "<div>\n",
       "<style scoped>\n",
       "    .dataframe tbody tr th:only-of-type {\n",
       "        vertical-align: middle;\n",
       "    }\n",
       "\n",
       "    .dataframe tbody tr th {\n",
       "        vertical-align: top;\n",
       "    }\n",
       "\n",
       "    .dataframe thead th {\n",
       "        text-align: right;\n",
       "    }\n",
       "</style>\n",
       "<table border=\"1\" class=\"dataframe\">\n",
       "  <thead>\n",
       "    <tr style=\"text-align: right;\">\n",
       "      <th></th>\n",
       "      <th>backdrop_path</th>\n",
       "      <th>belongs_to_collection</th>\n",
       "      <th>budget</th>\n",
       "      <th>genres</th>\n",
       "      <th>homepage</th>\n",
       "      <th>id</th>\n",
       "      <th>imdb_id</th>\n",
       "      <th>original_language</th>\n",
       "      <th>original_title</th>\n",
       "      <th>overview</th>\n",
       "      <th>...</th>\n",
       "      <th>spoken_languages</th>\n",
       "      <th>status</th>\n",
       "      <th>tagline</th>\n",
       "      <th>title</th>\n",
       "      <th>video</th>\n",
       "      <th>vote_average</th>\n",
       "      <th>vote_count</th>\n",
       "      <th>Keywords</th>\n",
       "      <th>cast</th>\n",
       "      <th>crew</th>\n",
       "    </tr>\n",
       "  </thead>\n",
       "  <tbody>\n",
       "    <tr>\n",
       "      <th>0</th>\n",
       "      <td>/nNh7vHHISVAaziJEqAq0P9iL52w.jpg</td>\n",
       "      <td>NaN</td>\n",
       "      <td>58000000</td>\n",
       "      <td>[{'id': 27, 'name': 'Horror'}, {'id': 878, 'na...</td>\n",
       "      <td>http://www.lifemovie.com/</td>\n",
       "      <td>395992</td>\n",
       "      <td>tt5442430</td>\n",
       "      <td>en</td>\n",
       "      <td>Life</td>\n",
       "      <td>The six-member crew of the International Space...</td>\n",
       "      <td>...</td>\n",
       "      <td>[{'iso_639_1': 'cn', 'name': '广州话 / 廣州話'}, {'i...</td>\n",
       "      <td>Released</td>\n",
       "      <td>Be careful what you search for</td>\n",
       "      <td>Life</td>\n",
       "      <td>False</td>\n",
       "      <td>6.4</td>\n",
       "      <td>4738</td>\n",
       "      <td>[{'id': 839, 'name': 'planet mars'}, {'id': 48...</td>\n",
       "      <td>[{'cast_id': 0, 'character': 'Dr. David Jordan...</td>\n",
       "      <td>[{'credit_id': '58bd72b0c3a3686630048e38', 'de...</td>\n",
       "    </tr>\n",
       "    <tr>\n",
       "      <th>1</th>\n",
       "      <td>/7dadBR1sXrl1TTzRQYNGUvQinF4.jpg</td>\n",
       "      <td>NaN</td>\n",
       "      <td>0</td>\n",
       "      <td>[{'id': 35, 'name': 'Comedy'}, {'id': 80, 'nam...</td>\n",
       "      <td>NaN</td>\n",
       "      <td>20832</td>\n",
       "      <td>tt1182908</td>\n",
       "      <td>hi</td>\n",
       "      <td>क्रैजी 4</td>\n",
       "      <td>A psychiatrist spends the majority of his time...</td>\n",
       "      <td>...</td>\n",
       "      <td>[{'iso_639_1': 'hi', 'name': 'हिन्दी'}]</td>\n",
       "      <td>Released</td>\n",
       "      <td>NaN</td>\n",
       "      <td>Krazzy 4</td>\n",
       "      <td>False</td>\n",
       "      <td>4.6</td>\n",
       "      <td>19</td>\n",
       "      <td>[]</td>\n",
       "      <td>[{'cast_id': 4, 'character': 'Raja', 'credit_i...</td>\n",
       "      <td>[{'credit_id': '5cab55c7925141565402137b', 'de...</td>\n",
       "    </tr>\n",
       "    <tr>\n",
       "      <th>2</th>\n",
       "      <td>/ijDUMFmb34Fv7jBwxzhNc3lbVP3.jpg</td>\n",
       "      <td>{'id': 410261, 'name': 'A Goofy Movie Collecti...</td>\n",
       "      <td>0</td>\n",
       "      <td>[{'id': 10749, 'name': 'Romance'}, {'id': 16, ...</td>\n",
       "      <td>NaN</td>\n",
       "      <td>15789</td>\n",
       "      <td>tt0113198</td>\n",
       "      <td>en</td>\n",
       "      <td>A Goofy Movie</td>\n",
       "      <td>Though Goofy always means well, his amiable cl...</td>\n",
       "      <td>...</td>\n",
       "      <td>[{'iso_639_1': 'en', 'name': 'English'}]</td>\n",
       "      <td>Released</td>\n",
       "      <td>It’s hard to be cool... when your dad’s Goofy.</td>\n",
       "      <td>A Goofy Movie</td>\n",
       "      <td>False</td>\n",
       "      <td>6.9</td>\n",
       "      <td>964</td>\n",
       "      <td>[{'id': 970, 'name': 'parent child relationshi...</td>\n",
       "      <td>[{'cast_id': 2, 'character': 'Goofy Goof (voic...</td>\n",
       "      <td>[{'credit_id': '591464b9925141583c00cea9', 'de...</td>\n",
       "    </tr>\n",
       "    <tr>\n",
       "      <th>3</th>\n",
       "      <td>/kb3RNnn4CMPRSaGbrX1ejc7lcRN.jpg</td>\n",
       "      <td>NaN</td>\n",
       "      <td>4000000</td>\n",
       "      <td>[{'id': 18, 'name': 'Drama'}]</td>\n",
       "      <td>NaN</td>\n",
       "      <td>265180</td>\n",
       "      <td>tt2802154</td>\n",
       "      <td>ru</td>\n",
       "      <td>Левиафан</td>\n",
       "      <td>In a Russian coastal town, Kolya is forced to ...</td>\n",
       "      <td>...</td>\n",
       "      <td>[{'iso_639_1': 'ru', 'name': 'Pусский'}]</td>\n",
       "      <td>Released</td>\n",
       "      <td>NaN</td>\n",
       "      <td>Leviathan</td>\n",
       "      <td>False</td>\n",
       "      <td>7.5</td>\n",
       "      <td>447</td>\n",
       "      <td>[{'id': 1415, 'name': 'small town'}, {'id': 19...</td>\n",
       "      <td>[{'cast_id': 3, 'character': 'Nikolay', 'credi...</td>\n",
       "      <td>[{'credit_id': '5b9c25890e0a266e12001f38', 'de...</td>\n",
       "    </tr>\n",
       "    <tr>\n",
       "      <th>4</th>\n",
       "      <td>/wEo4UtBAWdB4aOmQ9wRjI1aS7Dt.jpg</td>\n",
       "      <td>NaN</td>\n",
       "      <td>250000</td>\n",
       "      <td>[{'id': 35, 'name': 'Comedy'}, {'id': 18, 'nam...</td>\n",
       "      <td>NaN</td>\n",
       "      <td>10098</td>\n",
       "      <td>tt0012349</td>\n",
       "      <td>en</td>\n",
       "      <td>The Kid</td>\n",
       "      <td>A tramp cares for a boy after he's abandoned a...</td>\n",
       "      <td>...</td>\n",
       "      <td>[{'iso_639_1': 'xx', 'name': 'No Language'}]</td>\n",
       "      <td>Released</td>\n",
       "      <td>6 reels of Joy.</td>\n",
       "      <td>The Kid</td>\n",
       "      <td>False</td>\n",
       "      <td>8.2</td>\n",
       "      <td>1008</td>\n",
       "      <td>[{'id': 290, 'name': 'angel'}, {'id': 1252, 'n...</td>\n",
       "      <td>[{'cast_id': 10, 'character': 'A Tramp', 'cred...</td>\n",
       "      <td>[{'credit_id': '52fe43269251416c75005611', 'de...</td>\n",
       "    </tr>\n",
       "  </tbody>\n",
       "</table>\n",
       "<p>5 rows × 27 columns</p>\n",
       "</div>"
      ],
      "text/plain": [
       "                      backdrop_path  \\\n",
       "0  /nNh7vHHISVAaziJEqAq0P9iL52w.jpg   \n",
       "1  /7dadBR1sXrl1TTzRQYNGUvQinF4.jpg   \n",
       "2  /ijDUMFmb34Fv7jBwxzhNc3lbVP3.jpg   \n",
       "3  /kb3RNnn4CMPRSaGbrX1ejc7lcRN.jpg   \n",
       "4  /wEo4UtBAWdB4aOmQ9wRjI1aS7Dt.jpg   \n",
       "\n",
       "                               belongs_to_collection    budget  \\\n",
       "0                                                NaN  58000000   \n",
       "1                                                NaN         0   \n",
       "2  {'id': 410261, 'name': 'A Goofy Movie Collecti...         0   \n",
       "3                                                NaN   4000000   \n",
       "4                                                NaN    250000   \n",
       "\n",
       "                                              genres  \\\n",
       "0  [{'id': 27, 'name': 'Horror'}, {'id': 878, 'na...   \n",
       "1  [{'id': 35, 'name': 'Comedy'}, {'id': 80, 'nam...   \n",
       "2  [{'id': 10749, 'name': 'Romance'}, {'id': 16, ...   \n",
       "3                      [{'id': 18, 'name': 'Drama'}]   \n",
       "4  [{'id': 35, 'name': 'Comedy'}, {'id': 18, 'nam...   \n",
       "\n",
       "                    homepage      id    imdb_id original_language  \\\n",
       "0  http://www.lifemovie.com/  395992  tt5442430                en   \n",
       "1                        NaN   20832  tt1182908                hi   \n",
       "2                        NaN   15789  tt0113198                en   \n",
       "3                        NaN  265180  tt2802154                ru   \n",
       "4                        NaN   10098  tt0012349                en   \n",
       "\n",
       "  original_title                                           overview  ...  \\\n",
       "0           Life  The six-member crew of the International Space...  ...   \n",
       "1       क्रैजी 4  A psychiatrist spends the majority of his time...  ...   \n",
       "2  A Goofy Movie  Though Goofy always means well, his amiable cl...  ...   \n",
       "3       Левиафан  In a Russian coastal town, Kolya is forced to ...  ...   \n",
       "4        The Kid  A tramp cares for a boy after he's abandoned a...  ...   \n",
       "\n",
       "                                    spoken_languages    status  \\\n",
       "0  [{'iso_639_1': 'cn', 'name': '广州话 / 廣州話'}, {'i...  Released   \n",
       "1            [{'iso_639_1': 'hi', 'name': 'हिन्दी'}]  Released   \n",
       "2           [{'iso_639_1': 'en', 'name': 'English'}]  Released   \n",
       "3           [{'iso_639_1': 'ru', 'name': 'Pусский'}]  Released   \n",
       "4       [{'iso_639_1': 'xx', 'name': 'No Language'}]  Released   \n",
       "\n",
       "                                          tagline          title  video  \\\n",
       "0                  Be careful what you search for           Life  False   \n",
       "1                                             NaN       Krazzy 4  False   \n",
       "2  It’s hard to be cool... when your dad’s Goofy.  A Goofy Movie  False   \n",
       "3                                             NaN      Leviathan  False   \n",
       "4                                 6 reels of Joy.        The Kid  False   \n",
       "\n",
       "   vote_average  vote_count  \\\n",
       "0           6.4        4738   \n",
       "1           4.6          19   \n",
       "2           6.9         964   \n",
       "3           7.5         447   \n",
       "4           8.2        1008   \n",
       "\n",
       "                                            Keywords  \\\n",
       "0  [{'id': 839, 'name': 'planet mars'}, {'id': 48...   \n",
       "1                                                 []   \n",
       "2  [{'id': 970, 'name': 'parent child relationshi...   \n",
       "3  [{'id': 1415, 'name': 'small town'}, {'id': 19...   \n",
       "4  [{'id': 290, 'name': 'angel'}, {'id': 1252, 'n...   \n",
       "\n",
       "                                                cast  \\\n",
       "0  [{'cast_id': 0, 'character': 'Dr. David Jordan...   \n",
       "1  [{'cast_id': 4, 'character': 'Raja', 'credit_i...   \n",
       "2  [{'cast_id': 2, 'character': 'Goofy Goof (voic...   \n",
       "3  [{'cast_id': 3, 'character': 'Nikolay', 'credi...   \n",
       "4  [{'cast_id': 10, 'character': 'A Tramp', 'cred...   \n",
       "\n",
       "                                                crew  \n",
       "0  [{'credit_id': '58bd72b0c3a3686630048e38', 'de...  \n",
       "1  [{'credit_id': '5cab55c7925141565402137b', 'de...  \n",
       "2  [{'credit_id': '591464b9925141583c00cea9', 'de...  \n",
       "3  [{'credit_id': '5b9c25890e0a266e12001f38', 'de...  \n",
       "4  [{'credit_id': '52fe43269251416c75005611', 'de...  \n",
       "\n",
       "[5 rows x 27 columns]"
      ]
     },
     "execution_count": 57,
     "metadata": {},
     "output_type": "execute_result"
    }
   ],
   "source": [
    "test.head(5)"
   ]
  },
  {
   "cell_type": "markdown",
   "metadata": {},
   "source": [
    "## Prepare The Data"
   ]
  },
  {
   "cell_type": "code",
   "execution_count": 58,
   "metadata": {},
   "outputs": [],
   "source": [
    "def one_hot_encode_test(df, attribute, relevant_list):\n",
    "    for val in relevant_list:\n",
    "        filterd_val = val.lower().replace('productions','').replace('pictures','')\n",
    "        df[str(val)] = [1 if filterd_val in [xx.lower().replace('productions','').replace('pictures','') for xx in x] else 0 for x in df[str(attribute)].values]\n",
    "    \n",
    "    return df"
   ]
  },
  {
   "cell_type": "code",
   "execution_count": 59,
   "metadata": {},
   "outputs": [],
   "source": [
    "test = test.fillna(0)\n",
    "# data cleansing\n",
    "test['release_date'] = [datetime.strptime(x, '%Y-%m-%d').date() for x in test['release_date'].values]\n",
    "test['belongs_to_collection'] = [eval(x)['name'] if x != 0 else 0 for x in test['belongs_to_collection'].values]\n",
    "test['genres'] = [[y['name'] for y in ast.literal_eval(x)] if x != 0 else 0 for x in test['genres'].values]\n",
    "test['production_companies'] = [[y['name'] for y in ast.literal_eval(x)] if x != 0 else 0 for x in test['production_companies'].values]\n",
    "test['production_countries'] = [[y['iso_3166_1'] for y in ast.literal_eval(x)] if x != 0 else 0 for x in test['production_countries'].values]\n",
    "test['spoken_languages'] = [[y['iso_639_1'] for y in ast.literal_eval(x)] if x != 0 else 0 for x in test['spoken_languages'].values]\n",
    "test['Keywords'] = [[y['name'] for y in ast.literal_eval(x)] if x != 0 else 0 for x in test['Keywords'].values]\n",
    "test['cast'] = [[y['name'] for y in ast.literal_eval(x)] if x != 0 else 0 for x in test['cast'].values]\n",
    "test['crew'] = [[y['name'] for y in ast.literal_eval(x)] if x != 0 else 0 for x in test['crew'].values]\n",
    "test['release_year'] = [x.year for x in test['release_date'].values]\n",
    "test['release_month'] = [x.month for x in test['release_date'].values]\n",
    "test['release_day'] = [x.day for x in test['release_date'].values]\n",
    "test['release_day_week'] = [x.weekday() for x in test['release_date'].values]\n",
    "test['days_diff'] = [(datetime.today().date() - x).days  for x in test['release_date'].values]\n",
    "\n",
    "#missing values imputation\n",
    "test['decade'] = [math.floor(x%10000/1000)*1000 + math.floor(x%1000/100)*100 + math.floor((x)%100/10)*10 for x in test['release_year'].values]\n",
    "test = pd.merge(test, mean_budget_decade, left_on='decade', right_on='decade') # join with decade budget\n",
    "test = pd.merge(test, mean_budget_year, left_on='release_year', right_on='release_year') # join with decade budget\n",
    "test['budget'] = [x if x != 0 else (y if y != 0 else z) for x,y,z in zip(test['budget'].values, test['mean_budget_year'].values, test['mean_budget_decade'].values)]\n",
    "\n",
    "#extra features\n",
    "test['genres_count'] = [len(x) for x in test['genres'].values]\n",
    "test['production_companies_count'] = [len(x) for x in test['production_companies'].values]\n",
    "test['production_countries_count'] = [len(x) for x in test['production_countries'].values]\n",
    "test['languages_count'] = [len(x) for x in test['spoken_languages'].values]\n",
    "test['Keywords_count'] = [len(x) for x in test['Keywords'].values]\n",
    "test['cast_count'] = [len(x) for x in test['cast'].values]\n",
    "test['crew_count'] = [len(x) for x in test['crew'].values]\n",
    "\n",
    "#one hot incode\n",
    "test = one_hot_encode_test(test,'genres', genres_list)\n",
    "test = one_hot_encode_test(test,'production_companies', p_companies_list) \n",
    "test = one_hot_encode_test(test,'production_countries', p_countries_list) \n",
    "test = one_hot_encode_test(test,'spoken_languages', languages_list) \n",
    "\n",
    "#statistical features\n",
    "test = pd.merge(test, total_movies, left_on='release_year', right_on='release_year')\n",
    "test = pd.merge(test, medians, left_on='release_year', right_on='release_year')\n",
    "test = pd.merge(test, means, left_on='release_year', right_on='release_year')\n",
    "test = pd.merge(test, collection_count, left_on='belongs_to_collection', right_on='belongs_to_collection')\n",
    "\n",
    "#external data sources\n",
    "test['total_actors_oscars'] = [get_total_oscars(x, actors_winnings_dic) for x in test['cast'].values]\n",
    "test['total_actors_nominies'] = [get_total_oscars(x, actors_nominies_dic) for x in test['cast'].values]\n",
    "test['original_title'] = [x.lower().translate(table) for x in test['original_title'].values]\n",
    "test = pd.merge(test, movies_winnings, left_on='original_title', right_on='name', how = 'left').fillna(0)\n",
    "test = pd.merge(test, movies_nominies, left_on='original_title', right_on='name', how = 'left').fillna(0)\n",
    "test = test.drop(columns = ['name_x','name_y'])\n",
    "test['famous_actors'] = [get_famous(x, famous_actors) for x in test['cast'].values] #get famous actors score\n",
    "test['famous_directors'] = [get_famous(x, famous_directors) for x in test['crew'].values] #get famous directors score\n",
    "test['famous_crew'] = [get_famous(x, famous_actors) for x in test['crew'].values] #get famous actors (in crew) score"
   ]
  },
  {
   "cell_type": "markdown",
   "metadata": {},
   "source": [
    "# Model Selection and Evaluation"
   ]
  },
  {
   "cell_type": "code",
   "execution_count": 108,
   "metadata": {},
   "outputs": [],
   "source": [
    "bad_columns = ['backdrop_path', 'belongs_to_collection','genres','homepage','id','imdb_id','original_title','poster_path','production_companies',\n",
    "               'production_countries','spoken_languages','status','tagline','video','Keywords','cast','crew','overview','release_date','title','original_language',\n",
    "               ]\n",
    "\n",
    "my_train = train[[x for x in train.columns if x not in bad_columns]]          \n",
    "X_train = my_train[[x for x in my_train.columns if x != 'revenue']]\n",
    "Y_train = my_train[[ 'revenue']]\n",
    "\n",
    "my_test = test[[x for x in test.columns if x not in bad_columns]]\n",
    "X_test = my_test[[x for x in my_test.columns if x != 'revenue']]\n",
    "Y_test = my_test[[ 'revenue']]\n",
    "\n",
    "# my_train.to_csv('data_for_learning.csv', index=False)\n",
    "# my_test.to_csv('data_for_testing.csv', index=False)"
   ]
  },
  {
   "cell_type": "markdown",
   "metadata": {},
   "source": [
    "## GBT"
   ]
  },
  {
   "cell_type": "code",
   "execution_count": null,
   "metadata": {},
   "outputs": [],
   "source": [
    "%%time\n",
    "import time\n",
    "best_score = 100000\n",
    "best_params = [0,0,0,0]\n",
    "for max_d in [10, 30]:\n",
    "    for min_smpls in [2, 5]:\n",
    "        for l_r in [0.03, 0.05]:\n",
    "            for n_es in [500, 750]:\n",
    "                start = time.time()\n",
    "                print('------------------------------------------')\n",
    "                print(max_d, min_smpls, l_r, n_es)\n",
    "                params = {'n_estimators': n_es, 'max_depth': max_d, 'min_samples_split': min_smpls,'learning_rate': l_r, 'loss': 'ls'}\n",
    "                clf = ensemble.GradientBoostingRegressor(**params)\n",
    "                clf.fit(X_train, Y_train)\n",
    "                temp_score = np.sqrt(mean_squared_log_error(Y_test, [x * -1 if x < 0 else x for x in clf.predict(X_test)]))\n",
    "                print('time took:', time.time() - start,' score is:', temp_score)\n",
    "                if temp_score < best_score:\n",
    "                    best_score = temp_score\n",
    "                    best_params = [max_d, min_smpls, l_r, n_es]\n",
    "                    "
   ]
  },
  {
   "cell_type": "markdown",
   "metadata": {},
   "source": [
    "## XGBoost"
   ]
  },
  {
   "cell_type": "code",
   "execution_count": 158,
   "metadata": {},
   "outputs": [],
   "source": [
    "best_score = 2.2733892852668953\n",
    "best_params = [0,0,0,0]\n",
    "for max_d in [7, 10, 12]:\n",
    "    for cols_by in [0.9]:\n",
    "        for l_r in [0.01, 0.05, 0.03, 0.1]:\n",
    "            for n_es in [400, 750, 1000]:\n",
    "                for alp in [100, 50, 10, 1000]:\n",
    "                    start = time.time()\n",
    "                    clf = xgb.XGBRegressor(objective ='reg:squarederror', colsample_bytree = cols_by, learning_rate = l_r,\n",
    "                    max_depth = max_d, alpha = alp, n_estimators = n_es)\n",
    "                    clf.fit(X_train, Y_train)\n",
    "                    temp_score = np.sqrt(mean_squared_log_error(Y_test, [200000 if x < 0 else x for x in clf.predict(X_test)]))\n",
    "                    if temp_score < best_score:\n",
    "                        print('------------------------------------------')\n",
    "                        print(max_d, cols_by, l_r, n_es, alp)\n",
    "                        print('time took:', time.time() - start,' score is:', temp_score)\n",
    "                        best_score = temp_score\n",
    "                        best_params = [max_d, cols_by, l_r, n_es, alp]"
   ]
  },
  {
   "cell_type": "code",
   "execution_count": 141,
   "metadata": {},
   "outputs": [
    {
     "data": {
      "text/plain": [
       "2.2733892852668953"
      ]
     },
     "execution_count": 141,
     "metadata": {},
     "output_type": "execute_result"
    }
   ],
   "source": [
    "best_score"
   ]
  },
  {
   "cell_type": "code",
   "execution_count": 142,
   "metadata": {},
   "outputs": [
    {
     "data": {
      "text/plain": [
       "[7, 0.9, 0.03, 750, 10]"
      ]
     },
     "execution_count": 142,
     "metadata": {},
     "output_type": "execute_result"
    }
   ],
   "source": [
    "best_params"
   ]
  },
  {
   "cell_type": "markdown",
   "metadata": {},
   "source": [
    "## Results Analysis"
   ]
  },
  {
   "cell_type": "code",
   "execution_count": 143,
   "metadata": {},
   "outputs": [
    {
     "name": "stdout",
     "output_type": "stream",
     "text": [
      "RMSLE: 2.2733892852668953\n",
      "RMSE: 79217998.79446784\n"
     ]
    }
   ],
   "source": [
    "# Best classifier\n",
    "clf = xgb.XGBRegressor(objective ='reg:squarederror', colsample_bytree = 0.9, learning_rate = 0.03,\n",
    "max_depth = 7, alpha = 10, n_estimators = 750)\n",
    "clf.fit(X_train, Y_train)\n",
    "print('RMSLE:',np.sqrt(mean_squared_log_error(Y_test, [200000 if x < 0 else x for x in clf.predict(X_test)])))\n",
    "print('RMSE:',sqrt(mean_squared_error(Y_test, [200000 if x < 0 else x for x in clf.predict(X_test)])))"
   ]
  },
  {
   "cell_type": "code",
   "execution_count": 157,
   "metadata": {},
   "outputs": [],
   "source": [
    "pickle.dump(clf, open( \"xgboost_clf.pkl\", \"wb\" ))"
   ]
  },
  {
   "cell_type": "code",
   "execution_count": 92,
   "metadata": {},
   "outputs": [
    {
     "name": "stdout",
     "output_type": "stream",
     "text": [
      "RMSLE: 2.285963566047724\n",
      "RMSE: 80463960.56013104\n"
     ]
    }
   ],
   "source": [
    "xgboost_clf = pickle.load(open(\"xgboost_clf.pkl\", \"rb\"))\n",
    "print('RMSLE:',np.sqrt(mean_squared_log_error(Y_test, [200000 if x < 0 else x for x in xgboost_clf.predict(X_test)])))\n",
    "print('RMSE:',sqrt(mean_squared_error(Y_test, [200000 if x < 0 else x for x in xgboost_clf.predict(X_test)])))"
   ]
  },
  {
   "cell_type": "code",
   "execution_count": 144,
   "metadata": {},
   "outputs": [
    {
     "data": {
      "image/png": "[encoded data removed]",
      "text/plain": [
       "<Figure size 720x720 with 1 Axes>"
      ]
     },
     "metadata": {
      "needs_background": "light"
     },
     "output_type": "display_data"
    }
   ],
   "source": [
    "xgb.plot_importance(clf)\n",
    "plt.rcParams['figure.figsize'] = [15, 15]\n",
    "plt.show()"
   ]
  },
  {
   "cell_type": "code",
   "execution_count": 145,
   "metadata": {},
   "outputs": [],
   "source": [
    "data_dmatrix = xgb.DMatrix(data=X_train,label=Y_train)\n",
    "params = {\"objective\":\"reg:squarederror\",'colsample_bytree': 0.9,'learning_rate': 0.03,\n",
    "                'max_depth': 7, 'alpha': 10, 'n_estimators' : 750}\n",
    "\n",
    "cv_results = xgb.cv(dtrain=data_dmatrix, params=params, nfold=10,\n",
    "                    num_boost_round=100,early_stopping_rounds=10, metrics=\"rmsle\", as_pandas=True, seed=123)\n"
   ]
  },
  {
   "cell_type": "code",
   "execution_count": 146,
   "metadata": {},
   "outputs": [
    {
     "data": {
      "text/html": [
       "<div>\n",
       "<style scoped>\n",
       "    .dataframe tbody tr th:only-of-type {\n",
       "        vertical-align: middle;\n",
       "    }\n",
       "\n",
       "    .dataframe tbody tr th {\n",
       "        vertical-align: top;\n",
       "    }\n",
       "\n",
       "    .dataframe thead th {\n",
       "        text-align: right;\n",
       "    }\n",
       "</style>\n",
       "<table border=\"1\" class=\"dataframe\">\n",
       "  <thead>\n",
       "    <tr style=\"text-align: right;\">\n",
       "      <th></th>\n",
       "      <th>train-rmsle-mean</th>\n",
       "      <th>train-rmsle-std</th>\n",
       "      <th>test-rmsle-mean</th>\n",
       "      <th>test-rmsle-std</th>\n",
       "    </tr>\n",
       "  </thead>\n",
       "  <tbody>\n",
       "    <tr>\n",
       "      <th>0</th>\n",
       "      <td>3.198276</td>\n",
       "      <td>0.004971</td>\n",
       "      <td>3.234025</td>\n",
       "      <td>0.053842</td>\n",
       "    </tr>\n",
       "    <tr>\n",
       "      <th>1</th>\n",
       "      <td>2.650075</td>\n",
       "      <td>0.008622</td>\n",
       "      <td>2.677439</td>\n",
       "      <td>0.069747</td>\n",
       "    </tr>\n",
       "    <tr>\n",
       "      <th>2</th>\n",
       "      <td>2.391095</td>\n",
       "      <td>0.011049</td>\n",
       "      <td>2.420374</td>\n",
       "      <td>0.076832</td>\n",
       "    </tr>\n",
       "    <tr>\n",
       "      <th>3</th>\n",
       "      <td>2.232705</td>\n",
       "      <td>0.010124</td>\n",
       "      <td>2.264249</td>\n",
       "      <td>0.074130</td>\n",
       "    </tr>\n",
       "    <tr>\n",
       "      <th>4</th>\n",
       "      <td>2.128826</td>\n",
       "      <td>0.009782</td>\n",
       "      <td>2.162339</td>\n",
       "      <td>0.072941</td>\n",
       "    </tr>\n",
       "  </tbody>\n",
       "</table>\n",
       "</div>"
      ],
      "text/plain": [
       "   train-rmsle-mean  train-rmsle-std  test-rmsle-mean  test-rmsle-std\n",
       "0          3.198276         0.004971         3.234025        0.053842\n",
       "1          2.650075         0.008622         2.677439        0.069747\n",
       "2          2.391095         0.011049         2.420374        0.076832\n",
       "3          2.232705         0.010124         2.264249        0.074130\n",
       "4          2.128826         0.009782         2.162339        0.072941"
      ]
     },
     "execution_count": 146,
     "metadata": {},
     "output_type": "execute_result"
    }
   ],
   "source": [
    "cv_results.head()"
   ]
  },
  {
   "cell_type": "code",
   "execution_count": 147,
   "metadata": {},
   "outputs": [
    {
     "name": "stdout",
     "output_type": "stream",
     "text": [
      "14    1.927208\n",
      "Name: test-rmsle-mean, dtype: float64\n"
     ]
    }
   ],
   "source": [
    "print((cv_results[\"test-rmsle-mean\"]).tail(1))"
   ]
  },
  {
   "cell_type": "code",
   "execution_count": 148,
   "metadata": {},
   "outputs": [],
   "source": [
    "import copy\n",
    "my_test['prediction_rev'] = clf.predict(X_test)\n",
    "ploting_test = copy.copy(my_test)\n",
    "ploting_test['prediction_rev'] = [x / 1000000 for x in ploting_test['prediction_rev'].values]\n",
    "ploting_test['revenue'] = [x / 1000000 for x in ploting_test['revenue'].values]"
   ]
  },
  {
   "cell_type": "code",
   "execution_count": 156,
   "metadata": {},
   "outputs": [
    {
     "data": {
      "text/plain": [
       "<matplotlib.axes._subplots.AxesSubplot at 0x1494a8d8cf8>"
      ]
     },
     "execution_count": 156,
     "metadata": {},
     "output_type": "execute_result"
    },
    {
     "data": {
      "image/png": "[encoded data removed]",
      "text/plain": [
       "<Figure size 720x720 with 1 Axes>"
      ]
     },
     "metadata": {
      "needs_background": "light"
     },
     "output_type": "display_data"
    }
   ],
   "source": [
    "ploting_test.plot.scatter(x='prediction_rev', y='revenue', title= \"Scatter plot predictions and true values\")"
   ]
  },
  {
   "cell_type": "code",
   "execution_count": 150,
   "metadata": {},
   "outputs": [],
   "source": [
    "preds_and_true = my_test[['revenue','prediction_rev','release_year']]"
   ]
  },
  {
   "cell_type": "code",
   "execution_count": 151,
   "metadata": {},
   "outputs": [],
   "source": [
    "preds_and_true['diff'] = [x - y for x,y in zip(preds_and_true['revenue'].values, preds_and_true['prediction_rev'].values )]"
   ]
  },
  {
   "cell_type": "code",
   "execution_count": 152,
   "metadata": {},
   "outputs": [
    {
     "data": {
      "text/plain": [
       "<matplotlib.axes._subplots.AxesSubplot at 0x1494dbfc438>"
      ]
     },
     "execution_count": 152,
     "metadata": {},
     "output_type": "execute_result"
    },
    {
     "data": {
      "image/png": "[encoded data removed]",
      "text/plain": [
       "<Figure size 720x720 with 1 Axes>"
      ]
     },
     "metadata": {
      "needs_background": "light"
     },
     "output_type": "display_data"
    }
   ],
   "source": [
    "helper = preds_and_true[['release_year','diff']].groupby('release_year').mean()\n",
    "helper['diff'] = [x / 1000000 for x in helper['diff'].values]\n",
    "helper['year'] = helper.index\n",
    "plt.rcParams['figure.figsize'] = [10, 10]\n",
    "# plt.title('Prediction diffrence over the years')\n",
    "helper.plot(kind='line',x= 'year' ,y ='diff',title = 'Prediction diffrence over the years')\n"
   ]
  },
  {
   "cell_type": "code",
   "execution_count": 153,
   "metadata": {},
   "outputs": [],
   "source": [
    "helpper =  my_test[['revenue','prediction_rev','release_year']].groupby('release_year').mean()\n",
    "helpper['year'] = helpper.index\n",
    "helpper['revenue'] = [x / 1000000 for x in helpper['revenue'].values]\n",
    "helpper['prediction_rev'] = [x / 1000000 for x in helpper['prediction_rev'].values]\n"
   ]
  },
  {
   "cell_type": "code",
   "execution_count": 154,
   "metadata": {},
   "outputs": [
    {
     "data": {
      "image/png": "[encoded data removed]",
      "text/plain": [
       "<Figure size 720x720 with 1 Axes>"
      ]
     },
     "metadata": {
      "needs_background": "light"
     },
     "output_type": "display_data"
    }
   ],
   "source": [
    "ax = plt.gca()\n",
    "helpper.plot(kind='line',x= 'year' ,y ='revenue',title = 'Prediction vs True values over the years', ax = ax)\n",
    "helpper.plot(kind='line',x= 'year' ,y ='prediction_rev', color = 'red', ax = ax)\n",
    "plt.show()"
   ]
  },
  {
   "cell_type": "code",
   "execution_count": 155,
   "metadata": {},
   "outputs": [
    {
     "data": {
      "text/plain": [
       "<matplotlib.axes._subplots.AxesSubplot at 0x1494ec3a438>"
      ]
     },
     "execution_count": 155,
     "metadata": {},
     "output_type": "execute_result"
    },
    {
     "data": {
      "image/png": "[encoded data removed]",
      "text/plain": [
       "<Figure size 720x720 with 1 Axes>"
      ]
     },
     "metadata": {
      "needs_background": "light"
     },
     "output_type": "display_data"
    }
   ],
   "source": [
    "ploting_test['prediction_rev'].hist(bins = 100)"
   ]
  },
  {
   "cell_type": "code",
   "execution_count": null,
   "metadata": {},
   "outputs": [],
   "source": []
  }
 ],
 "metadata": {
  "kernelspec": {
   "display_name": "Python 3",
   "language": "python",
   "name": "python3"
  },
  "language_info": {
   "codemirror_mode": {
    "name": "ipython",
    "version": 3
   },
   "file_extension": ".py",
   "mimetype": "text/x-python",
   "name": "python",
   "nbconvert_exporter": "python",
   "pygments_lexer": "ipython3",
   "version": "3.7.1"
  }
 },
 "nbformat": 4,
 "nbformat_minor": 2
}
